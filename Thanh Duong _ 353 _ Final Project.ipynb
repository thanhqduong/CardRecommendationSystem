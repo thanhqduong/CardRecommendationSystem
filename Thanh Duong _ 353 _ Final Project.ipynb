{
 "cells": [
  {
   "cell_type": "markdown",
   "metadata": {},
   "source": [
    "### Name: Thanh Duong\n"
   ]
  },
  {
   "cell_type": "markdown",
   "metadata": {},
   "source": [
    "### *Popular combos of Clash Royale*"
   ]
  },
  {
   "cell_type": "markdown",
   "metadata": {},
   "source": [
    "#### 1. Introduction"
   ]
  },
  {
   "cell_type": "markdown",
   "metadata": {},
   "source": [
    "My data is about matches played in the game Clash Royale. Each of the players has 8 cards of different troops, spells, or buildings, to protect their castles and attack the others. Instead of playing each card individually, players usually think of \"combos\" by playing some appropriate combinations of cards at the same time. My project is to explore those combos that players have developed. The question I want to answer is \"What is the cards that are usually played with this card,\" or more specifically, \"Given the card A, what cards are usually played with.\""
   ]
  },
  {
   "cell_type": "markdown",
   "metadata": {},
   "source": [
    "#### 2. Method"
   ]
  },
  {
   "cell_type": "markdown",
   "metadata": {},
   "source": [
    "The data is obtained from: https://www.kaggle.com/datasets/bwandowando/clash-royale-season-18-dec-0320-dataset\n",
    "        \n",
    "From the dataset, I would get the deck (the set of 8 cards) from each match. Due to its large size, I randomly choose a random day to work with. I also remove all the duplicate deck.\n",
    "\n",
    "The data cleaning part above is done in Excel. The cleaned data can be found at https://github.com/thanhqduong/Math353Project/blob/main/data.xlsx\n",
    "\n",
    "For the game, on each level, you have new cards unlocked. If I try to recommend cards to every level, I may recommend cards to players which have not been unlocked yet. Therefore, on the scale of the project, I would focus only on the last-level player. It is really suitable for the dataset, as most of the players are on the last level."
   ]
  },
  {
   "cell_type": "markdown",
   "metadata": {},
   "source": [
    "#### 3. The Math"
   ]
  },
  {
   "cell_type": "markdown",
   "metadata": {},
   "source": [
    "The Machine Learning - Data Mining algorithm we will use is the Apriori algorithm. That is an Association Rule algorithm, which is used a lot in recommendation system. The algoritm itself has a lot of metric to use from; in the project, I would use the \"Confidence\" metric. The metric bases on the conditional probability mentioned in the Bayes Theorem P(A|B)."
   ]
  },
  {
   "cell_type": "markdown",
   "metadata": {},
   "source": [
    "#### 4. Assumption"
   ]
  },
  {
   "cell_type": "markdown",
   "metadata": {},
   "source": [
    "I assume that if the two cards appear in decks the same time a lot, it means that players usually play them together as a combo. Although there are chances that players just want to have them together without using both of them, I think it is very unlikely. In fact, for the same Apriori algorithm, the metric \"Lift\" could be used to tackle this problem; however, I think it is out of the scope of the project."
   ]
  },
  {
   "cell_type": "markdown",
   "metadata": {},
   "source": [
    "#### 5. The Code, and how-to-use instruction"
   ]
  },
  {
   "cell_type": "markdown",
   "metadata": {},
   "source": [
    "*Notation: The Markdown comment is the intruction to follow when running the code, while the in code comment (with \"#\") is for those who are more interested in the code.*"
   ]
  },
  {
   "cell_type": "markdown",
   "metadata": {},
   "source": [
    "#### The Model"
   ]
  },
  {
   "cell_type": "markdown",
   "metadata": {},
   "source": [
    "##### From the github link, download the 2 files \"data.xlsx\" and \"cardMasterList.csv\" and put them inside the same folder as this file."
   ]
  },
  {
   "cell_type": "code",
   "execution_count": 1,
   "metadata": {},
   "outputs": [],
   "source": [
    "# import libraries\n",
    "import numpy as np\n",
    "import pandas as pd\n",
    "import matplotlib.pyplot as plt\n",
    "import seaborn as sns\n",
    "import pandas_profiling as pp\n",
    "import scipy\n",
    "import matplotlib.ticker as ticker\n",
    "from sklearn import preprocessing\n",
    "from mlxtend.preprocessing import TransactionEncoder\n",
    "from mlxtend.frequent_patterns import apriori\n",
    "from mlxtend.frequent_patterns import association_rules"
   ]
  },
  {
   "cell_type": "code",
   "execution_count": 2,
   "metadata": {},
   "outputs": [],
   "source": [
    "# load data\n",
    "df = pd.read_excel(\"data.xlsx\", sep=',')"
   ]
  },
  {
   "cell_type": "code",
   "execution_count": 3,
   "metadata": {},
   "outputs": [],
   "source": [
    "# since the data is still really big, I only take a small sample of it. \n",
    "df = df.sample(frac=0.08, replace=True)"
   ]
  },
  {
   "cell_type": "code",
   "execution_count": 4,
   "metadata": {},
   "outputs": [
    {
     "data": {
      "text/html": [
       "<div>\n",
       "<style scoped>\n",
       "    .dataframe tbody tr th:only-of-type {\n",
       "        vertical-align: middle;\n",
       "    }\n",
       "\n",
       "    .dataframe tbody tr th {\n",
       "        vertical-align: top;\n",
       "    }\n",
       "\n",
       "    .dataframe thead th {\n",
       "        text-align: right;\n",
       "    }\n",
       "</style>\n",
       "<table border=\"1\" class=\"dataframe\">\n",
       "  <thead>\n",
       "    <tr style=\"text-align: right;\">\n",
       "      <th></th>\n",
       "      <th>winner.card1.id</th>\n",
       "      <th>winner.card2.id</th>\n",
       "      <th>winner.card3.id</th>\n",
       "      <th>winner.card4.id</th>\n",
       "      <th>winner.card5.id</th>\n",
       "      <th>winner.card6.id</th>\n",
       "      <th>winner.card7.id</th>\n",
       "      <th>winner.card8.id</th>\n",
       "    </tr>\n",
       "  </thead>\n",
       "  <tbody>\n",
       "    <tr>\n",
       "      <th>377637</th>\n",
       "      <td>26000037</td>\n",
       "      <td>28000008</td>\n",
       "      <td>27000010</td>\n",
       "      <td>26000003</td>\n",
       "      <td>26000007</td>\n",
       "      <td>26000015</td>\n",
       "      <td>26000006</td>\n",
       "      <td>28000007</td>\n",
       "    </tr>\n",
       "    <tr>\n",
       "      <th>311928</th>\n",
       "      <td>26000037</td>\n",
       "      <td>26000008</td>\n",
       "      <td>26000011</td>\n",
       "      <td>28000001</td>\n",
       "      <td>26000056</td>\n",
       "      <td>28000007</td>\n",
       "      <td>26000017</td>\n",
       "      <td>26000027</td>\n",
       "    </tr>\n",
       "    <tr>\n",
       "      <th>82172</th>\n",
       "      <td>26000055</td>\n",
       "      <td>26000064</td>\n",
       "      <td>28000004</td>\n",
       "      <td>26000049</td>\n",
       "      <td>26000056</td>\n",
       "      <td>26000012</td>\n",
       "      <td>28000011</td>\n",
       "      <td>26000044</td>\n",
       "    </tr>\n",
       "    <tr>\n",
       "      <th>240944</th>\n",
       "      <td>26000030</td>\n",
       "      <td>27000006</td>\n",
       "      <td>26000041</td>\n",
       "      <td>28000003</td>\n",
       "      <td>28000011</td>\n",
       "      <td>26000026</td>\n",
       "      <td>28000004</td>\n",
       "      <td>26000011</td>\n",
       "    </tr>\n",
       "    <tr>\n",
       "      <th>97474</th>\n",
       "      <td>26000067</td>\n",
       "      <td>26000030</td>\n",
       "      <td>26000048</td>\n",
       "      <td>28000012</td>\n",
       "      <td>26000064</td>\n",
       "      <td>26000068</td>\n",
       "      <td>26000063</td>\n",
       "      <td>26000035</td>\n",
       "    </tr>\n",
       "  </tbody>\n",
       "</table>\n",
       "</div>"
      ],
      "text/plain": [
       "        winner.card1.id  winner.card2.id  winner.card3.id  winner.card4.id  \\\n",
       "377637         26000037         28000008         27000010         26000003   \n",
       "311928         26000037         26000008         26000011         28000001   \n",
       "82172          26000055         26000064         28000004         26000049   \n",
       "240944         26000030         27000006         26000041         28000003   \n",
       "97474          26000067         26000030         26000048         28000012   \n",
       "\n",
       "        winner.card5.id  winner.card6.id  winner.card7.id  winner.card8.id  \n",
       "377637         26000007         26000015         26000006         28000007  \n",
       "311928         26000056         28000007         26000017         26000027  \n",
       "82172          26000056         26000012         28000011         26000044  \n",
       "240944         28000011         26000026         28000004         26000011  \n",
       "97474          26000064         26000068         26000063         26000035  "
      ]
     },
     "execution_count": 4,
     "metadata": {},
     "output_type": "execute_result"
    }
   ],
   "source": [
    "df.head()"
   ]
  },
  {
   "cell_type": "code",
   "execution_count": 5,
   "metadata": {},
   "outputs": [
    {
     "data": {
      "text/html": [
       "<div>\n",
       "<style scoped>\n",
       "    .dataframe tbody tr th:only-of-type {\n",
       "        vertical-align: middle;\n",
       "    }\n",
       "\n",
       "    .dataframe tbody tr th {\n",
       "        vertical-align: top;\n",
       "    }\n",
       "\n",
       "    .dataframe thead th {\n",
       "        text-align: right;\n",
       "    }\n",
       "</style>\n",
       "<table border=\"1\" class=\"dataframe\">\n",
       "  <thead>\n",
       "    <tr style=\"text-align: right;\">\n",
       "      <th></th>\n",
       "      <th>26000000</th>\n",
       "      <th>26000001</th>\n",
       "      <th>26000002</th>\n",
       "      <th>26000003</th>\n",
       "      <th>26000004</th>\n",
       "      <th>26000005</th>\n",
       "      <th>26000006</th>\n",
       "      <th>26000007</th>\n",
       "      <th>26000008</th>\n",
       "      <th>26000009</th>\n",
       "      <th>...</th>\n",
       "      <th>28000009</th>\n",
       "      <th>28000010</th>\n",
       "      <th>28000011</th>\n",
       "      <th>28000012</th>\n",
       "      <th>28000013</th>\n",
       "      <th>28000014</th>\n",
       "      <th>28000015</th>\n",
       "      <th>28000016</th>\n",
       "      <th>28000017</th>\n",
       "      <th>28000018</th>\n",
       "    </tr>\n",
       "  </thead>\n",
       "  <tbody>\n",
       "    <tr>\n",
       "      <th>0</th>\n",
       "      <td>False</td>\n",
       "      <td>False</td>\n",
       "      <td>False</td>\n",
       "      <td>True</td>\n",
       "      <td>False</td>\n",
       "      <td>False</td>\n",
       "      <td>True</td>\n",
       "      <td>True</td>\n",
       "      <td>False</td>\n",
       "      <td>False</td>\n",
       "      <td>...</td>\n",
       "      <td>False</td>\n",
       "      <td>False</td>\n",
       "      <td>False</td>\n",
       "      <td>False</td>\n",
       "      <td>False</td>\n",
       "      <td>False</td>\n",
       "      <td>False</td>\n",
       "      <td>False</td>\n",
       "      <td>False</td>\n",
       "      <td>False</td>\n",
       "    </tr>\n",
       "    <tr>\n",
       "      <th>1</th>\n",
       "      <td>False</td>\n",
       "      <td>False</td>\n",
       "      <td>False</td>\n",
       "      <td>False</td>\n",
       "      <td>False</td>\n",
       "      <td>False</td>\n",
       "      <td>False</td>\n",
       "      <td>False</td>\n",
       "      <td>True</td>\n",
       "      <td>False</td>\n",
       "      <td>...</td>\n",
       "      <td>False</td>\n",
       "      <td>False</td>\n",
       "      <td>False</td>\n",
       "      <td>False</td>\n",
       "      <td>False</td>\n",
       "      <td>False</td>\n",
       "      <td>False</td>\n",
       "      <td>False</td>\n",
       "      <td>False</td>\n",
       "      <td>False</td>\n",
       "    </tr>\n",
       "    <tr>\n",
       "      <th>2</th>\n",
       "      <td>False</td>\n",
       "      <td>False</td>\n",
       "      <td>False</td>\n",
       "      <td>False</td>\n",
       "      <td>False</td>\n",
       "      <td>False</td>\n",
       "      <td>False</td>\n",
       "      <td>False</td>\n",
       "      <td>False</td>\n",
       "      <td>False</td>\n",
       "      <td>...</td>\n",
       "      <td>False</td>\n",
       "      <td>False</td>\n",
       "      <td>True</td>\n",
       "      <td>False</td>\n",
       "      <td>False</td>\n",
       "      <td>False</td>\n",
       "      <td>False</td>\n",
       "      <td>False</td>\n",
       "      <td>False</td>\n",
       "      <td>False</td>\n",
       "    </tr>\n",
       "    <tr>\n",
       "      <th>3</th>\n",
       "      <td>False</td>\n",
       "      <td>False</td>\n",
       "      <td>False</td>\n",
       "      <td>False</td>\n",
       "      <td>False</td>\n",
       "      <td>False</td>\n",
       "      <td>False</td>\n",
       "      <td>False</td>\n",
       "      <td>False</td>\n",
       "      <td>False</td>\n",
       "      <td>...</td>\n",
       "      <td>False</td>\n",
       "      <td>False</td>\n",
       "      <td>True</td>\n",
       "      <td>False</td>\n",
       "      <td>False</td>\n",
       "      <td>False</td>\n",
       "      <td>False</td>\n",
       "      <td>False</td>\n",
       "      <td>False</td>\n",
       "      <td>False</td>\n",
       "    </tr>\n",
       "    <tr>\n",
       "      <th>4</th>\n",
       "      <td>False</td>\n",
       "      <td>False</td>\n",
       "      <td>False</td>\n",
       "      <td>False</td>\n",
       "      <td>False</td>\n",
       "      <td>False</td>\n",
       "      <td>False</td>\n",
       "      <td>False</td>\n",
       "      <td>False</td>\n",
       "      <td>False</td>\n",
       "      <td>...</td>\n",
       "      <td>False</td>\n",
       "      <td>False</td>\n",
       "      <td>False</td>\n",
       "      <td>True</td>\n",
       "      <td>False</td>\n",
       "      <td>False</td>\n",
       "      <td>False</td>\n",
       "      <td>False</td>\n",
       "      <td>False</td>\n",
       "      <td>False</td>\n",
       "    </tr>\n",
       "  </tbody>\n",
       "</table>\n",
       "<p>5 rows × 102 columns</p>\n",
       "</div>"
      ],
      "text/plain": [
       "   26000000  26000001  26000002  26000003  26000004  26000005  26000006  \\\n",
       "0     False     False     False      True     False     False      True   \n",
       "1     False     False     False     False     False     False     False   \n",
       "2     False     False     False     False     False     False     False   \n",
       "3     False     False     False     False     False     False     False   \n",
       "4     False     False     False     False     False     False     False   \n",
       "\n",
       "   26000007  26000008  26000009  ...  28000009  28000010  28000011  28000012  \\\n",
       "0      True     False     False  ...     False     False     False     False   \n",
       "1     False      True     False  ...     False     False     False     False   \n",
       "2     False     False     False  ...     False     False      True     False   \n",
       "3     False     False     False  ...     False     False      True     False   \n",
       "4     False     False     False  ...     False     False     False      True   \n",
       "\n",
       "   28000013  28000014  28000015  28000016  28000017  28000018  \n",
       "0     False     False     False     False     False     False  \n",
       "1     False     False     False     False     False     False  \n",
       "2     False     False     False     False     False     False  \n",
       "3     False     False     False     False     False     False  \n",
       "4     False     False     False     False     False     False  \n",
       "\n",
       "[5 rows x 102 columns]"
      ]
     },
     "execution_count": 5,
     "metadata": {},
     "output_type": "execute_result"
    }
   ],
   "source": [
    "# transform the data into a sparse matrix\n",
    "records = []\n",
    "for i in range(0, df.shape[0]):\n",
    "    records.append([str(df.values[i,j]) for j in range(0, df.shape[1])])\n",
    "te = TransactionEncoder()\n",
    "te_ary = te.fit(records).transform(records)\n",
    "df = pd.DataFrame(te_ary, columns=te.columns_)\n",
    "df.head()"
   ]
  },
  {
   "cell_type": "code",
   "execution_count": 6,
   "metadata": {},
   "outputs": [
    {
     "data": {
      "text/plain": [
       "(30965, 102)"
      ]
     },
     "execution_count": 6,
     "metadata": {},
     "output_type": "execute_result"
    }
   ],
   "source": [
    "# the size of the sparse matrix; that is why we can only take a small sample \n",
    "df.shape"
   ]
  },
  {
   "cell_type": "code",
   "execution_count": 7,
   "metadata": {},
   "outputs": [],
   "source": [
    "# use Apriori, choose only cards with the probability of appearing more than 0.004\n",
    "frequent_itemsets = apriori(df, min_support=0.004, use_colnames=True)"
   ]
  },
  {
   "cell_type": "code",
   "execution_count": 8,
   "metadata": {},
   "outputs": [],
   "source": [
    "# choose the \"Confidence\" metric, only calculate those with the confidence of at least 0.3\n",
    "rules = association_rules(frequent_itemsets, metric=\"confidence\", min_threshold=0.3)\n"
   ]
  },
  {
   "cell_type": "markdown",
   "metadata": {},
   "source": [
    "#### The Result"
   ]
  },
  {
   "cell_type": "markdown",
   "metadata": {},
   "source": [
    "##### Choose the card you want to find the combo: follow the link https://github.com/thanhqduong/Math353Project/blob/e2625142b7240f92db208084a2f768de4cf0a45e/cardMasterList.csv to find the correct ID"
   ]
  },
  {
   "cell_type": "code",
   "execution_count": 9,
   "metadata": {},
   "outputs": [],
   "source": [
    "# load the Master List to convert card ID to the card name\n",
    "ml = pd.read_csv(\"cardMasterList.csv\", sep=',', header = 0)\n",
    "def getName(string):\n",
    "    for i in range(len(ml)):\n",
    "        if str(ml.id[i]) == string:\n",
    "            print(ml.name[i])\n",
    "            break"
   ]
  },
  {
   "cell_type": "code",
   "execution_count": 10,
   "metadata": {},
   "outputs": [
    {
     "name": "stdout",
     "output_type": "stream",
     "text": [
      "Card ID: 26000003\n",
      "Number of cards to print at most (the result may have less): 5\n",
      "You choose the card:\n",
      "Giant\n",
      "The card above is usually played with: \n",
      "1:\n",
      "Zap\n",
      "2:\n",
      "Fireball\n",
      "3:\n",
      "Witch\n",
      "4:\n",
      "Arrows\n",
      "5:\n",
      "Wizard\n"
     ]
    }
   ],
   "source": [
    "string = str(input(\"Card ID: \")) # type the ID of the card\n",
    "n = int(input(\"Number of cards to print at most (the result may have less): \"))\n",
    "print(\"You choose the card:\")\n",
    "getName(string)\n",
    "l = []\n",
    "for row in rules.iterrows():\n",
    "    if string in row[1][0]:\n",
    "        if len(row[1][0]) == 1:\n",
    "            l.append((row[1][5], row[1][1]))\n",
    "l = sorted(l, reverse = True)\n",
    "n = min(len(l), n)\n",
    "print(\"The card above is usually played with: \")\n",
    "for i in range(n):\n",
    "    print(str(i + 1) + \":\")\n",
    "    ds = list(l[i][1])\n",
    "    for x in ds:\n",
    "        getName(x)"
   ]
  },
  {
   "cell_type": "markdown",
   "metadata": {},
   "source": [
    "##### Note: If you want to find the combos of another card, simply copy the cell above to the next cell. Below is an example."
   ]
  },
  {
   "cell_type": "code",
   "execution_count": 11,
   "metadata": {},
   "outputs": [
    {
     "name": "stdout",
     "output_type": "stream",
     "text": [
      "Card ID: 26000048\n",
      "Number of cards to print at most (the result may have less): 4\n",
      "You choose the card:\n",
      "Night Witch\n",
      "The card above is usually played with: \n",
      "1:\n",
      "Golem\n",
      "2:\n",
      "Baby Dragon\n",
      "3:\n",
      "Golem\n",
      "Baby Dragon\n",
      "4:\n",
      "Lightning\n"
     ]
    }
   ],
   "source": [
    "string = str(input(\"Card ID: \")) # type the ID of the card\n",
    "n = int(input(\"Number of cards to print at most (the result may have less): \"))\n",
    "print(\"You choose the card:\")\n",
    "getName(string)\n",
    "l = []\n",
    "for row in rules.iterrows():\n",
    "    if string in row[1][0]:\n",
    "        if len(row[1][0]) == 1:\n",
    "            l.append((row[1][5], row[1][1]))\n",
    "l = sorted(l, reverse = True)\n",
    "n = min(len(l), n)\n",
    "print(\"The card above is usually played with: \")\n",
    "for i in range(n):\n",
    "    print(str(i + 1) + \":\")\n",
    "    ds = list(l[i][1])\n",
    "    for x in ds:\n",
    "        getName(x)"
   ]
  },
  {
   "cell_type": "code",
   "execution_count": null,
   "metadata": {},
   "outputs": [],
   "source": []
  }
 ],
 "metadata": {
  "kernelspec": {
   "display_name": "Python 3",
   "language": "python",
   "name": "python3"
  },
  "language_info": {
   "codemirror_mode": {
    "name": "ipython",
    "version": 3
   },
   "file_extension": ".py",
   "mimetype": "text/x-python",
   "name": "python",
   "nbconvert_exporter": "python",
   "pygments_lexer": "ipython3",
   "version": "3.6.8"
  }
 },
 "nbformat": 4,
 "nbformat_minor": 4
}
